{
  "cells": [
    {
      "cell_type": "code",
      "execution_count": 1,
      "metadata": {
        "id": "HmMQXQmRtxno"
      },
      "outputs": [
        {
          "name": "stdout",
          "output_type": "stream",
          "text": [
            "WARNING:tensorflow:From c:\\Users\\Prathmesh\\Desktop\\newpy\\mynewv\\Lib\\site-packages\\keras\\src\\losses.py:2976: The name tf.losses.sparse_softmax_cross_entropy is deprecated. Please use tf.compat.v1.losses.sparse_softmax_cross_entropy instead.\n",
            "\n"
          ]
        }
      ],
      "source": [
        "import numpy as np\n",
        "import matplotlib.pyplot as plt\n",
        "import keras\n",
        "from tensorflow.keras.models import Sequential\n",
        "from tensorflow.keras.layers import Dense, Flatten, MaxPooling2D, Conv2D\n",
        "from tensorflow.keras.datasets import fashion_mnist"
      ]
    },
    {
      "cell_type": "code",
      "execution_count": 3,
      "metadata": {
        "colab": {
          "base_uri": "https://localhost:8080/"
        },
        "id": "nQjytn2x1kzh",
        "outputId": "c56a43f9-5071-41aa-a760-e6e2685b2ea3"
      },
      "outputs": [
        {
          "name": "stdout",
          "output_type": "stream",
          "text": [
            "Downloading data from https://storage.googleapis.com/tensorflow/tf-keras-datasets/train-labels-idx1-ubyte.gz\n",
            "29515/29515 [==============================] - 0s 1us/step\n",
            "Downloading data from https://storage.googleapis.com/tensorflow/tf-keras-datasets/train-images-idx3-ubyte.gz\n",
            "26421880/26421880 [==============================] - 6s 0us/step\n",
            "Downloading data from https://storage.googleapis.com/tensorflow/tf-keras-datasets/t10k-labels-idx1-ubyte.gz\n",
            "5148/5148 [==============================] - 0s 0s/step\n",
            "Downloading data from https://storage.googleapis.com/tensorflow/tf-keras-datasets/t10k-images-idx3-ubyte.gz\n",
            "4422102/4422102 [==============================] - 1s 0us/step\n"
          ]
        }
      ],
      "source": [
        "(train_x, train_y), (test_x, test_y) = fashion_mnist.load_data()"
      ]
    },
    {
      "cell_type": "code",
      "execution_count": 4,
      "metadata": {
        "id": "jvAquzIH3BYt"
      },
      "outputs": [],
      "source": [
        "model = Sequential()"
      ]
    },
    {
      "cell_type": "code",
      "execution_count": 5,
      "metadata": {
        "id": "iLFBQXhv3ECE"
      },
      "outputs": [],
      "source": [
        "model.add(Conv2D(filters=64,kernel_size=(3,3),activation='relu',input_shape=(28, 28, 1)))\n",
        "\n",
        "# Adding maxpooling layer to get max value within a matrix\n",
        "model.add(MaxPooling2D(pool_size=(2,2)))\n",
        "\n",
        "model.add(Flatten())\n",
        "model.add(Dense(128, activation = \"relu\"))\n",
        "model.add(Dense(10, activation = \"softmax\"))"
      ]
    },
    {
      "cell_type": "code",
      "execution_count": 6,
      "metadata": {
        "colab": {
          "base_uri": "https://localhost:8080/"
        },
        "id": "7p0rQaoN84DI",
        "outputId": "1ca7a5bd-00d5-4322-e394-8405db6e9f2a"
      },
      "outputs": [
        {
          "name": "stdout",
          "output_type": "stream",
          "text": [
            "Model: \"sequential\"\n",
            "_________________________________________________________________\n",
            " Layer (type)                Output Shape              Param #   \n",
            "=================================================================\n",
            " conv2d (Conv2D)             (None, 26, 26, 64)        640       \n",
            "                                                                 \n",
            " max_pooling2d (MaxPooling2  (None, 13, 13, 64)        0         \n",
            " D)                                                              \n",
            "                                                                 \n",
            " flatten (Flatten)           (None, 10816)             0         \n",
            "                                                                 \n",
            " dense (Dense)               (None, 128)               1384576   \n",
            "                                                                 \n",
            " dense_1 (Dense)             (None, 10)                1290      \n",
            "                                                                 \n",
            "=================================================================\n",
            "Total params: 1386506 (5.29 MB)\n",
            "Trainable params: 1386506 (5.29 MB)\n",
            "Non-trainable params: 0 (0.00 Byte)\n",
            "_________________________________________________________________\n"
          ]
        }
      ],
      "source": [
        "model.summary()"
      ]
    },
    {
      "cell_type": "code",
      "execution_count": 7,
      "metadata": {
        "id": "wXu9V0Gz8-tw"
      },
      "outputs": [],
      "source": [
        "model.compile(optimizer = 'adam', loss = 'sparse_categorical_crossentropy', metrics = ['accuracy'])"
      ]
    },
    {
      "cell_type": "code",
      "execution_count": 10,
      "metadata": {
        "colab": {
          "base_uri": "https://localhost:8080/"
        },
        "id": "ap__fwIa9aFb",
        "outputId": "32a6c4d7-8d29-4ab6-b1c1-a4a2f614e4da"
      },
      "outputs": [
        {
          "name": "stdout",
          "output_type": "stream",
          "text": [
            "Epoch 1/10\n",
            "1500/1500 [==============================] - 55s 36ms/step - loss: 1.2214 - accuracy: 0.8481 - val_loss: 0.3535 - val_accuracy: 0.8772\n",
            "Epoch 2/10\n",
            "1500/1500 [==============================] - 58s 39ms/step - loss: 0.2779 - accuracy: 0.8991 - val_loss: 0.3353 - val_accuracy: 0.8831\n",
            "Epoch 3/10\n",
            "1500/1500 [==============================] - 52s 35ms/step - loss: 0.2436 - accuracy: 0.9103 - val_loss: 0.3165 - val_accuracy: 0.8899\n",
            "Epoch 4/10\n",
            "1500/1500 [==============================] - 53s 35ms/step - loss: 0.2200 - accuracy: 0.9186 - val_loss: 0.3456 - val_accuracy: 0.8865\n",
            "Epoch 5/10\n",
            "1500/1500 [==============================] - 53s 36ms/step - loss: 0.1997 - accuracy: 0.9265 - val_loss: 0.3195 - val_accuracy: 0.8944\n",
            "Epoch 6/10\n",
            "1500/1500 [==============================] - 52s 35ms/step - loss: 0.1772 - accuracy: 0.9326 - val_loss: 0.3781 - val_accuracy: 0.8824\n",
            "Epoch 7/10\n",
            "1500/1500 [==============================] - 56s 37ms/step - loss: 0.1628 - accuracy: 0.9396 - val_loss: 0.3587 - val_accuracy: 0.8923\n",
            "Epoch 8/10\n",
            "1500/1500 [==============================] - 52s 35ms/step - loss: 0.1420 - accuracy: 0.9475 - val_loss: 0.4060 - val_accuracy: 0.8903\n",
            "Epoch 9/10\n",
            "1500/1500 [==============================] - 53s 36ms/step - loss: 0.1266 - accuracy: 0.9528 - val_loss: 0.4093 - val_accuracy: 0.8952\n",
            "Epoch 10/10\n",
            "1500/1500 [==============================] - 52s 35ms/step - loss: 0.1177 - accuracy: 0.9565 - val_loss: 0.4723 - val_accuracy: 0.8909\n"
          ]
        },
        {
          "data": {
            "text/plain": [
              "<keras.src.callbacks.History at 0x79eeb8e61030>"
            ]
          },
          "execution_count": 10,
          "metadata": {},
          "output_type": "execute_result"
        }
      ],
      "source": [
        "model.fit(train_x.astype(np.float32), train_y.astype(np.float32), epochs = 10, validation_split = 0.2)"
      ]
    },
    {
      "cell_type": "code",
      "execution_count": 11,
      "metadata": {
        "colab": {
          "base_uri": "https://localhost:8080/"
        },
        "id": "lWE3VbOU9yQc",
        "outputId": "fea1e6b4-c4e3-43a2-eef4-69c80023884e"
      },
      "outputs": [
        {
          "name": "stdout",
          "output_type": "stream",
          "text": [
            "313/313 [==============================] - 2s 7ms/step - loss: 0.5078 - accuracy: 0.8901\n"
          ]
        }
      ],
      "source": [
        "loss, acc = model.evaluate(test_x, test_y)"
      ]
    },
    {
      "cell_type": "code",
      "execution_count": 5,
      "metadata": {
        "colab": {
          "base_uri": "https://localhost:8080/"
        },
        "id": "BNhem_mj2HcD",
        "outputId": "bf004526-e2f2-432b-f062-1abe18240ee1"
      },
      "outputs": [
        {
          "name": "stdout",
          "output_type": "stream",
          "text": [
            "Help on function load_data in module keras.src.datasets.fashion_mnist:\n",
            "\n",
            "load_data()\n",
            "    Loads the Fashion-MNIST dataset.\n",
            "    \n",
            "    This is a dataset of 60,000 28x28 grayscale images of 10 fashion categories,\n",
            "    along with a test set of 10,000 images. This dataset can be used as\n",
            "    a drop-in replacement for MNIST.\n",
            "    \n",
            "    The classes are:\n",
            "    \n",
            "    | Label | Description |\n",
            "    |:-----:|-------------|\n",
            "    |   0   | T-shirt/top |\n",
            "    |   1   | Trouser     |\n",
            "    |   2   | Pullover    |\n",
            "    |   3   | Dress       |\n",
            "    |   4   | Coat        |\n",
            "    |   5   | Sandal      |\n",
            "    |   6   | Shirt       |\n",
            "    |   7   | Sneaker     |\n",
            "    |   8   | Bag         |\n",
            "    |   9   | Ankle boot  |\n",
            "    \n",
            "    Returns:\n",
            "      Tuple of NumPy arrays: `(x_train, y_train), (x_test, y_test)`.\n",
            "    \n",
            "    **x_train**: uint8 NumPy array of grayscale image data with shapes\n",
            "      `(60000, 28, 28)`, containing the training data.\n",
            "    \n",
            "    **y_train**: uint8 NumPy array of labels (integers in range 0-9)\n",
            "      with shape `(60000,)` for the training data.\n",
            "    \n",
            "    **x_test**: uint8 NumPy array of grayscale image data with shapes\n",
            "      (10000, 28, 28), containing the test data.\n",
            "    \n",
            "    **y_test**: uint8 NumPy array of labels (integers in range 0-9)\n",
            "      with shape `(10000,)` for the test data.\n",
            "    \n",
            "    Example:\n",
            "    \n",
            "    ```python\n",
            "    (x_train, y_train), (x_test, y_test) = fashion_mnist.load_data()\n",
            "    assert x_train.shape == (60000, 28, 28)\n",
            "    assert x_test.shape == (10000, 28, 28)\n",
            "    assert y_train.shape == (60000,)\n",
            "    assert y_test.shape == (10000,)\n",
            "    ```\n",
            "    \n",
            "    License:\n",
            "      The copyright for Fashion-MNIST is held by Zalando SE.\n",
            "      Fashion-MNIST is licensed under the [MIT license](\n",
            "      https://github.com/zalandoresearch/fashion-mnist/blob/master/LICENSE).\n",
            "\n"
          ]
        }
      ],
      "source": [
        "# Get help on a specific function\n",
        "help(keras.datasets.fashion_mnist.load_data) #As we can not mugg up the labels this is the cheat to find them but works only if internet is connected."
      ]
    },
    {
      "cell_type": "code",
      "execution_count": 32,
      "metadata": {
        "id": "luO2y_NCw1yd"
      },
      "outputs": [],
      "source": [
        "# Labels for Fashion MNIST classes\n",
        "labels = ['t_shirt', 'trouser', 'pullover', 'dress', 'coat', 'sandal', 'shirt', 'sneaker', 'bag', 'ankle_boots']"
      ]
    },
    {
      "cell_type": "code",
      "execution_count": 43,
      "metadata": {
        "colab": {
          "base_uri": "https://localhost:8080/",
          "height": 469
        },
        "id": "dV-V_6ej0EcX",
        "outputId": "4b8fdf22-f665-4bec-8be4-db4a37656756"
      },
      "outputs": [
        {
          "name": "stdout",
          "output_type": "stream",
          "text": [
            "1/1 [==============================] - 0s 21ms/step\n"
          ]
        },
        {
          "data": {
            "image/png": "[encoded data removed]",
            "text/plain": [
              "<Figure size 640x480 with 1 Axes>"
            ]
          },
          "metadata": {},
          "output_type": "display_data"
        }
      ],
      "source": [
        "# Make predictions on a sample from the test data\n",
        "predictions = model.predict(test_x[300:301])\n",
        "predicted_label = labels[np.argmax(predictions)]\n",
        "expected_label = labels[test_y[300]]\n",
        "\n",
        "# Visualize the image\n",
        "plt.imshow(test_x[300:301][0])\n",
        "plt.title(f'Expected: {expected_label}, Predicted: {predicted_label}')\n",
        "plt.show()"
      ]
    },
    {
      "cell_type": "code",
      "execution_count": null,
      "metadata": {
        "id": "BnUqlAxl03mR"
      },
      "outputs": [],
      "source": []
    }
  ],
  "metadata": {
    "colab": {
      "provenance": []
    },
    "kernelspec": {
      "display_name": "newkernel",
      "language": "python",
      "name": "newkernel"
    },
    "language_info": {
      "codemirror_mode": {
        "name": "ipython",
        "version": 3
      },
      "file_extension": ".py",
      "mimetype": "text/x-python",
      "name": "python",
      "nbconvert_exporter": "python",
      "pygments_lexer": "ipython3",
      "version": "3.11.5"
    }
  },
  "nbformat": 4,
  "nbformat_minor": 0
}
