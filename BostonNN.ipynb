{
  "nbformat": 4,
  "nbformat_minor": 0,
  "metadata": {
    "colab": {
      "provenance": []
    },
    "kernelspec": {
      "name": "python3",
      "display_name": "Python 3"
    },
    "language_info": {
      "name": "python"
    }
  },
  "cells": [
    {
      "cell_type": "code",
      "execution_count": 1,
      "metadata": {
        "id": "ZoYMWz4r-QqE"
      },
      "outputs": [],
      "source": [
        "import pandas as pd\n",
        "from sklearn.model_selection import train_test_split\n",
        "from sklearn.preprocessing import MinMaxScaler\n",
        "from tensorflow.keras.models import Sequential\n",
        "from tensorflow.keras.layers import Dense"
      ]
    },
    {
      "cell_type": "code",
      "source": [
        "\n",
        "# Load data from CSV\n",
        "df = pd.read_csv(\"/content/boston_housing.csv\")"
      ],
      "metadata": {
        "id": "xkVLJ2CK-Vns"
      },
      "execution_count": 2,
      "outputs": []
    },
    {
      "cell_type": "code",
      "source": [
        "df.info()"
      ],
      "metadata": {
        "colab": {
          "base_uri": "https://localhost:8080/"
        },
        "id": "fNwnBhvzAcxY",
        "outputId": "eace177d-e5e5-4dab-8935-d40f323129e4"
      },
      "execution_count": 3,
      "outputs": [
        {
          "output_type": "stream",
          "name": "stdout",
          "text": [
            "<class 'pandas.core.frame.DataFrame'>\n",
            "RangeIndex: 506 entries, 0 to 505\n",
            "Data columns (total 14 columns):\n",
            " #   Column   Non-Null Count  Dtype  \n",
            "---  ------   --------------  -----  \n",
            " 0   crim     506 non-null    float64\n",
            " 1   zn       506 non-null    float64\n",
            " 2   indus    506 non-null    float64\n",
            " 3   chas     506 non-null    int64  \n",
            " 4   nox      506 non-null    float64\n",
            " 5   rm       506 non-null    float64\n",
            " 6   age      506 non-null    float64\n",
            " 7   dis      506 non-null    float64\n",
            " 8   rad      506 non-null    int64  \n",
            " 9   tax      506 non-null    int64  \n",
            " 10  ptratio  506 non-null    float64\n",
            " 11  b        506 non-null    float64\n",
            " 12  lstat    506 non-null    float64\n",
            " 13  MEDV     506 non-null    float64\n",
            "dtypes: float64(11), int64(3)\n",
            "memory usage: 55.5 KB\n"
          ]
        }
      ]
    },
    {
      "cell_type": "code",
      "source": [
        "# Split data into features and target\n",
        "X = df.loc[:, df.columns != 'MEDV']\n",
        "y = df.loc[:, df.columns == 'MEDV']"
      ],
      "metadata": {
        "id": "w_NkrkW1-jgj"
      },
      "execution_count": 4,
      "outputs": []
    },
    {
      "cell_type": "code",
      "source": [
        "# Split data into train and test sets\n",
        "X_train, X_test, y_train, y_test = train_test_split(X, y, test_size=0.3, random_state=123)"
      ],
      "metadata": {
        "id": "ux7myXX6-l5q"
      },
      "execution_count": 5,
      "outputs": []
    },
    {
      "cell_type": "code",
      "source": [
        "# Scale features\n",
        "mms = MinMaxScaler()\n",
        "mms.fit(X_train)\n",
        "X_train = mms.transform(X_train)\n",
        "X_test = mms.transform(X_test)"
      ],
      "metadata": {
        "id": "50KRsfzf-qQF"
      },
      "execution_count": 6,
      "outputs": []
    },
    {
      "cell_type": "code",
      "source": [
        "# Build neural network model\n",
        "model = Sequential()\n",
        "model.add(Dense(128, input_shape=(13,), activation='relu', name='dense_1'))\n",
        "model.add(Dense(64, activation='relu', name='dense_2'))\n",
        "model.add(Dense(1, activation='linear', name='dense_output'))\n",
        "model.compile(optimizer='adam', loss='mse', metrics=['mae'])\n",
        "model.summary()"
      ],
      "metadata": {
        "colab": {
          "base_uri": "https://localhost:8080/"
        },
        "id": "xT5YyUsg-sfF",
        "outputId": "df4e7118-c0a0-43c9-b042-c1b6b3746588"
      },
      "execution_count": 7,
      "outputs": [
        {
          "output_type": "stream",
          "name": "stdout",
          "text": [
            "Model: \"sequential\"\n",
            "_________________________________________________________________\n",
            " Layer (type)                Output Shape              Param #   \n",
            "=================================================================\n",
            " dense_1 (Dense)             (None, 128)               1792      \n",
            "                                                                 \n",
            " dense_2 (Dense)             (None, 64)                8256      \n",
            "                                                                 \n",
            " dense_output (Dense)        (None, 1)                 65        \n",
            "                                                                 \n",
            "=================================================================\n",
            "Total params: 10113 (39.50 KB)\n",
            "Trainable params: 10113 (39.50 KB)\n",
            "Non-trainable params: 0 (0.00 Byte)\n",
            "_________________________________________________________________\n"
          ]
        }
      ]
    },
    {
      "cell_type": "code",
      "source": [
        "# Train the model\n",
        "history = model.fit(X_train, y_train, epochs=100, validation_split=0.05, verbose=1)"
      ],
      "metadata": {
        "colab": {
          "base_uri": "https://localhost:8080/"
        },
        "id": "EqJm1NTv-w-T",
        "outputId": "97a33a5c-036b-4d77-a60e-aceb15577dc1"
      },
      "execution_count": 8,
      "outputs": [
        {
          "output_type": "stream",
          "name": "stdout",
          "text": [
            "Epoch 1/100\n",
            "11/11 [==============================] - 3s 52ms/step - loss: 582.9758 - mae: 22.2663 - val_loss: 596.4329 - val_mae: 22.4610\n",
            "Epoch 2/100\n",
            "11/11 [==============================] - 0s 9ms/step - loss: 537.1176 - mae: 21.1588 - val_loss: 539.9641 - val_mae: 21.1172\n",
            "Epoch 3/100\n",
            "11/11 [==============================] - 0s 9ms/step - loss: 471.5012 - mae: 19.4477 - val_loss: 455.7853 - val_mae: 18.9244\n",
            "Epoch 4/100\n",
            "11/11 [==============================] - 0s 9ms/step - loss: 376.6651 - mae: 16.7412 - val_loss: 340.9192 - val_mae: 15.3771\n",
            "Epoch 5/100\n",
            "11/11 [==============================] - 0s 7ms/step - loss: 261.6972 - mae: 13.1225 - val_loss: 220.3813 - val_mae: 11.1833\n",
            "Epoch 6/100\n",
            "11/11 [==============================] - 0s 13ms/step - loss: 173.8724 - mae: 10.3070 - val_loss: 147.7001 - val_mae: 8.6962\n",
            "Epoch 7/100\n",
            "11/11 [==============================] - 0s 14ms/step - loss: 138.9989 - mae: 9.2819 - val_loss: 129.9512 - val_mae: 8.4269\n",
            "Epoch 8/100\n",
            "11/11 [==============================] - 0s 17ms/step - loss: 126.6480 - mae: 8.7641 - val_loss: 120.3579 - val_mae: 8.0613\n",
            "Epoch 9/100\n",
            "11/11 [==============================] - 0s 12ms/step - loss: 111.4981 - mae: 8.0603 - val_loss: 112.5253 - val_mae: 7.6868\n",
            "Epoch 10/100\n",
            "11/11 [==============================] - 0s 12ms/step - loss: 98.8285 - mae: 7.4323 - val_loss: 104.2134 - val_mae: 7.3167\n",
            "Epoch 11/100\n",
            "11/11 [==============================] - 0s 19ms/step - loss: 88.2175 - mae: 6.9486 - val_loss: 95.6317 - val_mae: 7.0232\n",
            "Epoch 12/100\n",
            "11/11 [==============================] - 0s 14ms/step - loss: 79.0210 - mae: 6.5172 - val_loss: 89.0787 - val_mae: 6.7426\n",
            "Epoch 13/100\n",
            "11/11 [==============================] - 0s 14ms/step - loss: 71.5449 - mae: 6.1212 - val_loss: 84.6476 - val_mae: 6.4354\n",
            "Epoch 14/100\n",
            "11/11 [==============================] - 0s 22ms/step - loss: 64.9734 - mae: 5.8256 - val_loss: 79.4984 - val_mae: 6.3983\n",
            "Epoch 15/100\n",
            "11/11 [==============================] - 0s 16ms/step - loss: 60.1934 - mae: 5.5396 - val_loss: 77.0416 - val_mae: 6.2140\n",
            "Epoch 16/100\n",
            "11/11 [==============================] - 0s 9ms/step - loss: 56.6812 - mae: 5.3689 - val_loss: 73.5742 - val_mae: 6.3366\n",
            "Epoch 17/100\n",
            "11/11 [==============================] - 0s 8ms/step - loss: 53.4924 - mae: 5.1520 - val_loss: 72.0906 - val_mae: 6.0912\n",
            "Epoch 18/100\n",
            "11/11 [==============================] - 0s 15ms/step - loss: 51.2248 - mae: 5.0014 - val_loss: 69.8531 - val_mae: 6.0926\n",
            "Epoch 19/100\n",
            "11/11 [==============================] - 0s 13ms/step - loss: 49.0441 - mae: 4.8858 - val_loss: 68.3965 - val_mae: 6.0114\n",
            "Epoch 20/100\n",
            "11/11 [==============================] - 0s 19ms/step - loss: 47.1452 - mae: 4.7910 - val_loss: 66.4410 - val_mae: 6.0335\n",
            "Epoch 21/100\n",
            "11/11 [==============================] - 0s 16ms/step - loss: 45.4051 - mae: 4.7035 - val_loss: 65.1604 - val_mae: 5.8989\n",
            "Epoch 22/100\n",
            "11/11 [==============================] - 0s 5ms/step - loss: 43.7078 - mae: 4.5834 - val_loss: 63.7439 - val_mae: 5.8130\n",
            "Epoch 23/100\n",
            "11/11 [==============================] - 0s 5ms/step - loss: 42.1534 - mae: 4.5351 - val_loss: 61.8704 - val_mae: 5.8092\n",
            "Epoch 24/100\n",
            "11/11 [==============================] - 0s 7ms/step - loss: 40.6175 - mae: 4.4261 - val_loss: 60.7602 - val_mae: 5.6372\n",
            "Epoch 25/100\n",
            "11/11 [==============================] - 0s 5ms/step - loss: 38.8769 - mae: 4.3357 - val_loss: 58.8239 - val_mae: 5.6193\n",
            "Epoch 26/100\n",
            "11/11 [==============================] - 0s 7ms/step - loss: 37.4902 - mae: 4.3076 - val_loss: 57.1880 - val_mae: 5.5405\n",
            "Epoch 27/100\n",
            "11/11 [==============================] - 0s 5ms/step - loss: 35.9265 - mae: 4.1899 - val_loss: 56.8276 - val_mae: 5.3056\n",
            "Epoch 28/100\n",
            "11/11 [==============================] - 0s 5ms/step - loss: 34.4571 - mae: 4.0393 - val_loss: 54.7308 - val_mae: 5.3045\n",
            "Epoch 29/100\n",
            "11/11 [==============================] - 0s 6ms/step - loss: 33.3032 - mae: 4.0795 - val_loss: 52.6349 - val_mae: 5.2900\n",
            "Epoch 30/100\n",
            "11/11 [==============================] - 0s 5ms/step - loss: 31.7038 - mae: 3.9251 - val_loss: 52.0879 - val_mae: 5.1213\n",
            "Epoch 31/100\n",
            "11/11 [==============================] - 0s 6ms/step - loss: 30.5096 - mae: 3.8350 - val_loss: 50.5068 - val_mae: 5.0668\n",
            "Epoch 32/100\n",
            "11/11 [==============================] - 0s 6ms/step - loss: 29.4238 - mae: 3.8225 - val_loss: 48.6545 - val_mae: 5.0227\n",
            "Epoch 33/100\n",
            "11/11 [==============================] - 0s 7ms/step - loss: 28.5339 - mae: 3.6964 - val_loss: 49.4963 - val_mae: 4.9126\n",
            "Epoch 34/100\n",
            "11/11 [==============================] - 0s 5ms/step - loss: 27.7815 - mae: 3.7367 - val_loss: 45.9063 - val_mae: 4.9343\n",
            "Epoch 35/100\n",
            "11/11 [==============================] - 0s 5ms/step - loss: 26.0001 - mae: 3.5608 - val_loss: 46.7914 - val_mae: 4.8537\n",
            "Epoch 36/100\n",
            "11/11 [==============================] - 0s 5ms/step - loss: 25.2448 - mae: 3.4516 - val_loss: 45.4498 - val_mae: 4.8242\n",
            "Epoch 37/100\n",
            "11/11 [==============================] - 0s 5ms/step - loss: 24.2747 - mae: 3.3783 - val_loss: 44.3236 - val_mae: 4.7979\n",
            "Epoch 38/100\n",
            "11/11 [==============================] - 0s 5ms/step - loss: 23.5823 - mae: 3.3564 - val_loss: 43.3742 - val_mae: 4.7503\n",
            "Epoch 39/100\n",
            "11/11 [==============================] - 0s 5ms/step - loss: 22.7517 - mae: 3.3438 - val_loss: 41.6977 - val_mae: 4.7264\n",
            "Epoch 40/100\n",
            "11/11 [==============================] - 0s 5ms/step - loss: 22.0968 - mae: 3.2609 - val_loss: 43.0919 - val_mae: 4.6389\n",
            "Epoch 41/100\n",
            "11/11 [==============================] - 0s 5ms/step - loss: 21.4493 - mae: 3.1897 - val_loss: 40.2061 - val_mae: 4.6230\n",
            "Epoch 42/100\n",
            "11/11 [==============================] - 0s 5ms/step - loss: 21.0242 - mae: 3.2119 - val_loss: 39.9734 - val_mae: 4.5870\n",
            "Epoch 43/100\n",
            "11/11 [==============================] - 0s 6ms/step - loss: 20.5231 - mae: 3.1333 - val_loss: 40.5512 - val_mae: 4.5079\n",
            "Epoch 44/100\n",
            "11/11 [==============================] - 0s 5ms/step - loss: 20.0700 - mae: 3.0792 - val_loss: 38.2613 - val_mae: 4.4734\n",
            "Epoch 45/100\n",
            "11/11 [==============================] - 0s 5ms/step - loss: 19.7993 - mae: 3.1191 - val_loss: 38.5301 - val_mae: 4.4020\n",
            "Epoch 46/100\n",
            "11/11 [==============================] - 0s 5ms/step - loss: 19.4607 - mae: 3.0094 - val_loss: 38.3375 - val_mae: 4.3334\n",
            "Epoch 47/100\n",
            "11/11 [==============================] - 0s 7ms/step - loss: 19.0535 - mae: 3.0450 - val_loss: 36.1120 - val_mae: 4.3207\n",
            "Epoch 48/100\n",
            "11/11 [==============================] - 0s 5ms/step - loss: 18.9932 - mae: 2.9860 - val_loss: 37.2284 - val_mae: 4.2541\n",
            "Epoch 49/100\n",
            "11/11 [==============================] - 0s 7ms/step - loss: 18.5302 - mae: 3.0010 - val_loss: 35.7952 - val_mae: 4.2154\n",
            "Epoch 50/100\n",
            "11/11 [==============================] - 0s 5ms/step - loss: 18.4089 - mae: 2.9244 - val_loss: 36.6267 - val_mae: 4.1685\n",
            "Epoch 51/100\n",
            "11/11 [==============================] - 0s 6ms/step - loss: 18.2999 - mae: 2.9766 - val_loss: 35.7281 - val_mae: 4.1188\n",
            "Epoch 52/100\n",
            "11/11 [==============================] - 0s 5ms/step - loss: 17.7183 - mae: 2.8683 - val_loss: 36.0179 - val_mae: 4.0823\n",
            "Epoch 53/100\n",
            "11/11 [==============================] - 0s 5ms/step - loss: 17.7186 - mae: 2.8748 - val_loss: 35.7486 - val_mae: 4.0438\n",
            "Epoch 54/100\n",
            "11/11 [==============================] - 0s 5ms/step - loss: 17.3225 - mae: 2.8167 - val_loss: 34.2219 - val_mae: 4.0109\n",
            "Epoch 55/100\n",
            "11/11 [==============================] - 0s 5ms/step - loss: 17.3907 - mae: 2.8502 - val_loss: 34.8606 - val_mae: 3.9647\n",
            "Epoch 56/100\n",
            "11/11 [==============================] - 0s 5ms/step - loss: 17.0443 - mae: 2.7983 - val_loss: 34.3640 - val_mae: 3.9270\n",
            "Epoch 57/100\n",
            "11/11 [==============================] - 0s 5ms/step - loss: 16.8974 - mae: 2.8000 - val_loss: 32.8303 - val_mae: 3.9016\n",
            "Epoch 58/100\n",
            "11/11 [==============================] - 0s 5ms/step - loss: 16.7054 - mae: 2.7846 - val_loss: 34.6345 - val_mae: 3.9049\n",
            "Epoch 59/100\n",
            "11/11 [==============================] - 0s 5ms/step - loss: 17.0917 - mae: 2.8279 - val_loss: 32.8685 - val_mae: 3.8453\n",
            "Epoch 60/100\n",
            "11/11 [==============================] - 0s 5ms/step - loss: 16.6149 - mae: 2.7538 - val_loss: 33.5875 - val_mae: 3.8424\n",
            "Epoch 61/100\n",
            "11/11 [==============================] - 0s 5ms/step - loss: 16.4743 - mae: 2.7227 - val_loss: 33.6467 - val_mae: 3.8295\n",
            "Epoch 62/100\n",
            "11/11 [==============================] - 0s 5ms/step - loss: 16.7027 - mae: 2.8136 - val_loss: 32.2212 - val_mae: 3.7658\n",
            "Epoch 63/100\n",
            "11/11 [==============================] - 0s 5ms/step - loss: 16.4842 - mae: 2.7265 - val_loss: 33.3596 - val_mae: 3.7891\n",
            "Epoch 64/100\n",
            "11/11 [==============================] - 0s 6ms/step - loss: 15.9897 - mae: 2.7153 - val_loss: 30.6548 - val_mae: 3.7166\n",
            "Epoch 65/100\n",
            "11/11 [==============================] - 0s 5ms/step - loss: 16.0747 - mae: 2.7286 - val_loss: 33.0293 - val_mae: 3.7638\n",
            "Epoch 66/100\n",
            "11/11 [==============================] - 0s 5ms/step - loss: 15.9057 - mae: 2.7030 - val_loss: 30.8485 - val_mae: 3.6729\n",
            "Epoch 67/100\n",
            "11/11 [==============================] - 0s 5ms/step - loss: 15.9690 - mae: 2.7075 - val_loss: 32.9539 - val_mae: 3.7410\n",
            "Epoch 68/100\n",
            "11/11 [==============================] - 0s 5ms/step - loss: 16.0819 - mae: 2.7224 - val_loss: 32.0940 - val_mae: 3.6918\n",
            "Epoch 69/100\n",
            "11/11 [==============================] - 0s 5ms/step - loss: 15.6158 - mae: 2.6631 - val_loss: 30.9371 - val_mae: 3.6276\n",
            "Epoch 70/100\n",
            "11/11 [==============================] - 0s 5ms/step - loss: 15.5636 - mae: 2.6741 - val_loss: 30.8906 - val_mae: 3.6170\n",
            "Epoch 71/100\n",
            "11/11 [==============================] - 0s 5ms/step - loss: 15.5532 - mae: 2.6792 - val_loss: 30.9886 - val_mae: 3.6014\n",
            "Epoch 72/100\n",
            "11/11 [==============================] - 0s 5ms/step - loss: 15.3331 - mae: 2.6339 - val_loss: 30.3831 - val_mae: 3.5468\n",
            "Epoch 73/100\n",
            "11/11 [==============================] - 0s 5ms/step - loss: 15.3516 - mae: 2.6745 - val_loss: 29.7726 - val_mae: 3.5177\n",
            "Epoch 74/100\n",
            "11/11 [==============================] - 0s 5ms/step - loss: 15.1564 - mae: 2.6165 - val_loss: 30.8824 - val_mae: 3.5501\n",
            "Epoch 75/100\n",
            "11/11 [==============================] - 0s 5ms/step - loss: 15.1756 - mae: 2.6134 - val_loss: 29.8429 - val_mae: 3.4879\n",
            "Epoch 76/100\n",
            "11/11 [==============================] - 0s 5ms/step - loss: 15.0809 - mae: 2.6212 - val_loss: 29.7671 - val_mae: 3.4681\n",
            "Epoch 77/100\n",
            "11/11 [==============================] - 0s 5ms/step - loss: 14.9876 - mae: 2.5910 - val_loss: 30.2736 - val_mae: 3.4811\n",
            "Epoch 78/100\n",
            "11/11 [==============================] - 0s 5ms/step - loss: 14.9241 - mae: 2.5813 - val_loss: 28.9721 - val_mae: 3.4235\n",
            "Epoch 79/100\n",
            "11/11 [==============================] - 0s 5ms/step - loss: 14.8941 - mae: 2.6102 - val_loss: 29.3191 - val_mae: 3.4198\n",
            "Epoch 80/100\n",
            "11/11 [==============================] - 0s 5ms/step - loss: 14.8400 - mae: 2.5729 - val_loss: 29.1634 - val_mae: 3.4115\n",
            "Epoch 81/100\n",
            "11/11 [==============================] - 0s 5ms/step - loss: 14.7038 - mae: 2.5995 - val_loss: 27.9786 - val_mae: 3.3714\n",
            "Epoch 82/100\n",
            "11/11 [==============================] - 0s 5ms/step - loss: 14.6915 - mae: 2.5969 - val_loss: 29.5262 - val_mae: 3.4057\n",
            "Epoch 83/100\n",
            "11/11 [==============================] - 0s 5ms/step - loss: 14.6869 - mae: 2.5827 - val_loss: 28.5502 - val_mae: 3.3577\n",
            "Epoch 84/100\n",
            "11/11 [==============================] - 0s 5ms/step - loss: 14.6199 - mae: 2.5560 - val_loss: 28.3069 - val_mae: 3.3335\n",
            "Epoch 85/100\n",
            "11/11 [==============================] - 0s 5ms/step - loss: 14.4619 - mae: 2.5553 - val_loss: 27.8295 - val_mae: 3.3217\n",
            "Epoch 86/100\n",
            "11/11 [==============================] - 0s 5ms/step - loss: 14.4148 - mae: 2.5665 - val_loss: 28.3650 - val_mae: 3.3251\n",
            "Epoch 87/100\n",
            "11/11 [==============================] - 0s 5ms/step - loss: 14.4016 - mae: 2.5457 - val_loss: 27.7715 - val_mae: 3.3032\n",
            "Epoch 88/100\n",
            "11/11 [==============================] - 0s 5ms/step - loss: 14.4501 - mae: 2.5303 - val_loss: 27.1954 - val_mae: 3.2665\n",
            "Epoch 89/100\n",
            "11/11 [==============================] - 0s 5ms/step - loss: 14.3637 - mae: 2.5270 - val_loss: 26.9519 - val_mae: 3.2502\n",
            "Epoch 90/100\n",
            "11/11 [==============================] - 0s 5ms/step - loss: 14.3612 - mae: 2.5502 - val_loss: 27.5564 - val_mae: 3.2522\n",
            "Epoch 91/100\n",
            "11/11 [==============================] - 0s 5ms/step - loss: 14.1289 - mae: 2.5552 - val_loss: 26.8703 - val_mae: 3.2127\n",
            "Epoch 92/100\n",
            "11/11 [==============================] - 0s 5ms/step - loss: 14.1119 - mae: 2.5234 - val_loss: 27.4118 - val_mae: 3.2318\n",
            "Epoch 93/100\n",
            "11/11 [==============================] - 0s 5ms/step - loss: 14.0388 - mae: 2.5068 - val_loss: 26.1031 - val_mae: 3.1992\n",
            "Epoch 94/100\n",
            "11/11 [==============================] - 0s 5ms/step - loss: 14.6908 - mae: 2.6683 - val_loss: 28.1944 - val_mae: 3.2526\n",
            "Epoch 95/100\n",
            "11/11 [==============================] - 0s 5ms/step - loss: 14.0964 - mae: 2.5023 - val_loss: 26.5434 - val_mae: 3.1780\n",
            "Epoch 96/100\n",
            "11/11 [==============================] - 0s 7ms/step - loss: 13.8372 - mae: 2.5121 - val_loss: 26.9500 - val_mae: 3.2001\n",
            "Epoch 97/100\n",
            "11/11 [==============================] - 0s 6ms/step - loss: 13.9574 - mae: 2.4871 - val_loss: 25.6495 - val_mae: 3.1398\n",
            "Epoch 98/100\n",
            "11/11 [==============================] - 0s 6ms/step - loss: 13.7647 - mae: 2.5110 - val_loss: 26.2702 - val_mae: 3.1644\n",
            "Epoch 99/100\n",
            "11/11 [==============================] - 0s 5ms/step - loss: 13.6598 - mae: 2.4727 - val_loss: 25.6504 - val_mae: 3.1244\n",
            "Epoch 100/100\n",
            "11/11 [==============================] - 0s 5ms/step - loss: 13.6120 - mae: 2.4984 - val_loss: 26.3531 - val_mae: 3.1149\n"
          ]
        }
      ]
    },
    {
      "cell_type": "code",
      "source": [
        "# Evaluate the model\n",
        "mse_nn, mae_nn = model.evaluate(X_test, y_test)\n",
        "print('Mean squared error on test data: ', mse_nn)\n",
        "print('Mean absolute error on test data: ', mae_nn)"
      ],
      "metadata": {
        "colab": {
          "base_uri": "https://localhost:8080/"
        },
        "id": "IquZpzUZ-10q",
        "outputId": "17d9db8f-4378-4250-da2c-1e63e78c19dc"
      },
      "execution_count": 9,
      "outputs": [
        {
          "output_type": "stream",
          "name": "stdout",
          "text": [
            "5/5 [==============================] - 0s 4ms/step - loss: 23.4275 - mae: 3.1642\n",
            "Mean squared error on test data:  23.427465438842773\n",
            "Mean absolute error on test data:  3.1641881465911865\n"
          ]
        }
      ]
    },
    {
      "cell_type": "code",
      "source": [
        "# Predict the output\n",
        "single_input_value = X_test[1].reshape(1, -1)  #X_test[1] indicates 2nd row i.e. first index to be given as input\n",
        "\n",
        "predicted_value = model.predict(single_input_value)\n",
        "\n",
        "print(\"Predicted value:\", predicted_value[0][0])\n",
        "print(\"Actual value:\", y_test.values[1][0]) # y_test.values[1][0] indicates 2nd row i.e. first index to be given as input\n"
      ],
      "metadata": {
        "colab": {
          "base_uri": "https://localhost:8080/"
        },
        "id": "_On8qz1f-7EF",
        "outputId": "6ee2b7e1-d6e8-4836-aed1-5f6c8c6e1717"
      },
      "execution_count": 10,
      "outputs": [
        {
          "output_type": "stream",
          "name": "stdout",
          "text": [
            "1/1 [==============================] - 0s 144ms/step\n",
            "Predicted value: 26.89318\n",
            "Actual value: 26.6\n"
          ]
        }
      ]
    },
    {
      "cell_type": "code",
      "source": [],
      "metadata": {
        "id": "7KK5fJ7k_BR5"
      },
      "execution_count": 10,
      "outputs": []
    }
  ]
}